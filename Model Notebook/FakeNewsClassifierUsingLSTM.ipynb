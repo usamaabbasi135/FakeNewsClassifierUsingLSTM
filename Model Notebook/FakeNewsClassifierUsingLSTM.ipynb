{
  "nbformat": 4,
  "nbformat_minor": 0,
  "metadata": {
    "colab": {
      "provenance": [],
      "toc_visible": true,
      "gpuType": "T4"
    },
    "kernelspec": {
      "name": "python3",
      "display_name": "Python 3"
    },
    "language_info": {
      "name": "python"
    },
    "accelerator": "GPU"
  },
  "cells": [
    {
      "cell_type": "markdown",
      "source": [
        "# 1. Importing Libraries"
      ],
      "metadata": {
        "id": "CkEzE1y53sYs"
      }
    },
    {
      "cell_type": "markdown",
      "source": [
        "* Imports the pandas library and gives it the short name pd.\n",
        "* Pandas is a powerful Python library used for handling and analyzing data.\n",
        "* It helps you load, view, clean, and process data, especially in table form like.\n",
        "* We import TensorFlow (used for building deep learning models).\n",
        "\n",
        "* tf.__version__ prints which version of TensorFlow you're using. Useful for checking compatibility.\n",
        "\n",
        "* nltk: A library for natural language processing.\n",
        "* re: Used for regular expressions (removing unwanted characters).\n",
        "* stopwords: Common words like \"the\", \"is\", \"in\" that add little meaning — we remove them.\n",
        "* PorterStemmer: Reduces words to their root form (e.g., \"running\" → \"run\").\n",
        "* importing all the building blocks needed to create an LSTM model that can handle text data.\n",
        "\n",
        " * Embedding: Converts words into dense vector representations for the model.\n",
        " * LSTM: A type of neural network layer that remembers context, useful for sequence/text data.\n",
        " * Dense: Fully connected layer used to make predictions.\n",
        " * pad_sequences: Ensures all text inputs have the same length (needed for training).\n",
        " * Sequential: Lets you build a model layer by layer.\n",
        "one_hot: Converts words into integer tokens as part of preprocessing."
      ],
      "metadata": {
        "id": "rhE7CwLzvuEf"
      }
    },
    {
      "cell_type": "code",
      "source": [
        "import pandas as pd\n",
        "import tensorflow as tf\n",
        "import nltk\n",
        "import re\n",
        "from nltk.corpus import stopwords\n",
        "from tensorflow .keras.layers import Embedding\n",
        "from tensorflow .keras.layers import LSTM\n",
        "from tensorflow .keras.layers import Dense\n",
        "from tensorflow .keras.preprocessing.sequence import pad_sequences\n",
        "from tensorflow .keras.models import Sequential\n",
        "from tensorflow .keras.preprocessing.text import one_hot\n",
        "import numpy as np\n",
        "from sklearn.model_selection import train_test_split"
      ],
      "metadata": {
        "id": "hwbKPcE_dJnq"
      },
      "execution_count": 3,
      "outputs": []
    },
    {
      "cell_type": "markdown",
      "source": [
        "* This line reads a CSV file (which contains your dataset) from your Google Drive path using pandas.\n",
        "\n",
        "* read_csv() is used to load data from a .csv file into a DataFrame — a table-like structure.\n",
        "\n",
        "* df is the variable where this data is stored. We'll use it to explore and process the data later.\n",
        "\n",
        "* on_bad_lines='skip' tells pandas to skip any rows in the file that are broken or have formatting issues, so the code doesn't crash"
      ],
      "metadata": {
        "id": "-WlcO5DmwQFy"
      }
    },
    {
      "cell_type": "markdown",
      "source": [
        "# 2. Loading the Dataset"
      ],
      "metadata": {
        "id": "t8LYxCXt46jl"
      }
    },
    {
      "cell_type": "code",
      "execution_count": 4,
      "metadata": {
        "id": "n3DKm7HzWqZN"
      },
      "outputs": [],
      "source": [
        "df = pd.read_csv('/content/drive/MyDrive/Dataset/WELFake_Dataset.csv',on_bad_lines='skip')"
      ]
    },
    {
      "cell_type": "markdown",
      "source": [
        "# 3. Data Exploration and Cleaning"
      ],
      "metadata": {
        "id": "kixHslJe5G8S"
      }
    },
    {
      "cell_type": "markdown",
      "source": [
        "* This shows the first 5 rows of your dataset.\n",
        "* It helps you take a quick look at the data: what columns are there, what kind of values are in the rows, etc."
      ],
      "metadata": {
        "id": "_fgXVYE5wnVE"
      }
    },
    {
      "cell_type": "code",
      "source": [
        "df.head()"
      ],
      "metadata": {
        "colab": {
          "base_uri": "https://localhost:8080/",
          "height": 206
        },
        "id": "SuL-nNzCcdMy",
        "outputId": "4ef00956-c265-4723-90ab-b79c1a6676c1"
      },
      "execution_count": 6,
      "outputs": [
        {
          "output_type": "execute_result",
          "data": {
            "text/plain": [
              "   Unnamed: 0                                              title  \\\n",
              "0           0  LAW ENFORCEMENT ON HIGH ALERT Following Threat...   \n",
              "1           1                                                NaN   \n",
              "2           2  UNBELIEVABLE! OBAMA’S ATTORNEY GENERAL SAYS MO...   \n",
              "3           3  Bobby Jindal, raised Hindu, uses story of Chri...   \n",
              "4           4  SATAN 2: Russia unvelis an image of its terrif...   \n",
              "\n",
              "                                                text  label  \n",
              "0  No comment is expected from Barack Obama Membe...      1  \n",
              "1     Did they post their votes for Hillary already?      1  \n",
              "2   Now, most of the demonstrators gathered last ...      1  \n",
              "3  A dozen politically active pastors came here f...      0  \n",
              "4  The RS-28 Sarmat missile, dubbed Satan 2, will...      1  "
            ],
            "text/html": [
              "\n",
              "  <div id=\"df-090298be-e827-4e73-aac2-4d3aa4b2ea8a\" class=\"colab-df-container\">\n",
              "    <div>\n",
              "<style scoped>\n",
              "    .dataframe tbody tr th:only-of-type {\n",
              "        vertical-align: middle;\n",
              "    }\n",
              "\n",
              "    .dataframe tbody tr th {\n",
              "        vertical-align: top;\n",
              "    }\n",
              "\n",
              "    .dataframe thead th {\n",
              "        text-align: right;\n",
              "    }\n",
              "</style>\n",
              "<table border=\"1\" class=\"dataframe\">\n",
              "  <thead>\n",
              "    <tr style=\"text-align: right;\">\n",
              "      <th></th>\n",
              "      <th>Unnamed: 0</th>\n",
              "      <th>title</th>\n",
              "      <th>text</th>\n",
              "      <th>label</th>\n",
              "    </tr>\n",
              "  </thead>\n",
              "  <tbody>\n",
              "    <tr>\n",
              "      <th>0</th>\n",
              "      <td>0</td>\n",
              "      <td>LAW ENFORCEMENT ON HIGH ALERT Following Threat...</td>\n",
              "      <td>No comment is expected from Barack Obama Membe...</td>\n",
              "      <td>1</td>\n",
              "    </tr>\n",
              "    <tr>\n",
              "      <th>1</th>\n",
              "      <td>1</td>\n",
              "      <td>NaN</td>\n",
              "      <td>Did they post their votes for Hillary already?</td>\n",
              "      <td>1</td>\n",
              "    </tr>\n",
              "    <tr>\n",
              "      <th>2</th>\n",
              "      <td>2</td>\n",
              "      <td>UNBELIEVABLE! OBAMA’S ATTORNEY GENERAL SAYS MO...</td>\n",
              "      <td>Now, most of the demonstrators gathered last ...</td>\n",
              "      <td>1</td>\n",
              "    </tr>\n",
              "    <tr>\n",
              "      <th>3</th>\n",
              "      <td>3</td>\n",
              "      <td>Bobby Jindal, raised Hindu, uses story of Chri...</td>\n",
              "      <td>A dozen politically active pastors came here f...</td>\n",
              "      <td>0</td>\n",
              "    </tr>\n",
              "    <tr>\n",
              "      <th>4</th>\n",
              "      <td>4</td>\n",
              "      <td>SATAN 2: Russia unvelis an image of its terrif...</td>\n",
              "      <td>The RS-28 Sarmat missile, dubbed Satan 2, will...</td>\n",
              "      <td>1</td>\n",
              "    </tr>\n",
              "  </tbody>\n",
              "</table>\n",
              "</div>\n",
              "    <div class=\"colab-df-buttons\">\n",
              "\n",
              "  <div class=\"colab-df-container\">\n",
              "    <button class=\"colab-df-convert\" onclick=\"convertToInteractive('df-090298be-e827-4e73-aac2-4d3aa4b2ea8a')\"\n",
              "            title=\"Convert this dataframe to an interactive table.\"\n",
              "            style=\"display:none;\">\n",
              "\n",
              "  <svg xmlns=\"http://www.w3.org/2000/svg\" height=\"24px\" viewBox=\"0 -960 960 960\">\n",
              "    <path d=\"M120-120v-720h720v720H120Zm60-500h600v-160H180v160Zm220 220h160v-160H400v160Zm0 220h160v-160H400v160ZM180-400h160v-160H180v160Zm440 0h160v-160H620v160ZM180-180h160v-160H180v160Zm440 0h160v-160H620v160Z\"/>\n",
              "  </svg>\n",
              "    </button>\n",
              "\n",
              "  <style>\n",
              "    .colab-df-container {\n",
              "      display:flex;\n",
              "      gap: 12px;\n",
              "    }\n",
              "\n",
              "    .colab-df-convert {\n",
              "      background-color: #E8F0FE;\n",
              "      border: none;\n",
              "      border-radius: 50%;\n",
              "      cursor: pointer;\n",
              "      display: none;\n",
              "      fill: #1967D2;\n",
              "      height: 32px;\n",
              "      padding: 0 0 0 0;\n",
              "      width: 32px;\n",
              "    }\n",
              "\n",
              "    .colab-df-convert:hover {\n",
              "      background-color: #E2EBFA;\n",
              "      box-shadow: 0px 1px 2px rgba(60, 64, 67, 0.3), 0px 1px 3px 1px rgba(60, 64, 67, 0.15);\n",
              "      fill: #174EA6;\n",
              "    }\n",
              "\n",
              "    .colab-df-buttons div {\n",
              "      margin-bottom: 4px;\n",
              "    }\n",
              "\n",
              "    [theme=dark] .colab-df-convert {\n",
              "      background-color: #3B4455;\n",
              "      fill: #D2E3FC;\n",
              "    }\n",
              "\n",
              "    [theme=dark] .colab-df-convert:hover {\n",
              "      background-color: #434B5C;\n",
              "      box-shadow: 0px 1px 3px 1px rgba(0, 0, 0, 0.15);\n",
              "      filter: drop-shadow(0px 1px 2px rgba(0, 0, 0, 0.3));\n",
              "      fill: #FFFFFF;\n",
              "    }\n",
              "  </style>\n",
              "\n",
              "    <script>\n",
              "      const buttonEl =\n",
              "        document.querySelector('#df-090298be-e827-4e73-aac2-4d3aa4b2ea8a button.colab-df-convert');\n",
              "      buttonEl.style.display =\n",
              "        google.colab.kernel.accessAllowed ? 'block' : 'none';\n",
              "\n",
              "      async function convertToInteractive(key) {\n",
              "        const element = document.querySelector('#df-090298be-e827-4e73-aac2-4d3aa4b2ea8a');\n",
              "        const dataTable =\n",
              "          await google.colab.kernel.invokeFunction('convertToInteractive',\n",
              "                                                    [key], {});\n",
              "        if (!dataTable) return;\n",
              "\n",
              "        const docLinkHtml = 'Like what you see? Visit the ' +\n",
              "          '<a target=\"_blank\" href=https://colab.research.google.com/notebooks/data_table.ipynb>data table notebook</a>'\n",
              "          + ' to learn more about interactive tables.';\n",
              "        element.innerHTML = '';\n",
              "        dataTable['output_type'] = 'display_data';\n",
              "        await google.colab.output.renderOutput(dataTable, element);\n",
              "        const docLink = document.createElement('div');\n",
              "        docLink.innerHTML = docLinkHtml;\n",
              "        element.appendChild(docLink);\n",
              "      }\n",
              "    </script>\n",
              "  </div>\n",
              "\n",
              "\n",
              "    <div id=\"df-ba41a011-0a08-45d5-952e-c457ba6d5e0e\">\n",
              "      <button class=\"colab-df-quickchart\" onclick=\"quickchart('df-ba41a011-0a08-45d5-952e-c457ba6d5e0e')\"\n",
              "                title=\"Suggest charts\"\n",
              "                style=\"display:none;\">\n",
              "\n",
              "<svg xmlns=\"http://www.w3.org/2000/svg\" height=\"24px\"viewBox=\"0 0 24 24\"\n",
              "     width=\"24px\">\n",
              "    <g>\n",
              "        <path d=\"M19 3H5c-1.1 0-2 .9-2 2v14c0 1.1.9 2 2 2h14c1.1 0 2-.9 2-2V5c0-1.1-.9-2-2-2zM9 17H7v-7h2v7zm4 0h-2V7h2v10zm4 0h-2v-4h2v4z\"/>\n",
              "    </g>\n",
              "</svg>\n",
              "      </button>\n",
              "\n",
              "<style>\n",
              "  .colab-df-quickchart {\n",
              "      --bg-color: #E8F0FE;\n",
              "      --fill-color: #1967D2;\n",
              "      --hover-bg-color: #E2EBFA;\n",
              "      --hover-fill-color: #174EA6;\n",
              "      --disabled-fill-color: #AAA;\n",
              "      --disabled-bg-color: #DDD;\n",
              "  }\n",
              "\n",
              "  [theme=dark] .colab-df-quickchart {\n",
              "      --bg-color: #3B4455;\n",
              "      --fill-color: #D2E3FC;\n",
              "      --hover-bg-color: #434B5C;\n",
              "      --hover-fill-color: #FFFFFF;\n",
              "      --disabled-bg-color: #3B4455;\n",
              "      --disabled-fill-color: #666;\n",
              "  }\n",
              "\n",
              "  .colab-df-quickchart {\n",
              "    background-color: var(--bg-color);\n",
              "    border: none;\n",
              "    border-radius: 50%;\n",
              "    cursor: pointer;\n",
              "    display: none;\n",
              "    fill: var(--fill-color);\n",
              "    height: 32px;\n",
              "    padding: 0;\n",
              "    width: 32px;\n",
              "  }\n",
              "\n",
              "  .colab-df-quickchart:hover {\n",
              "    background-color: var(--hover-bg-color);\n",
              "    box-shadow: 0 1px 2px rgba(60, 64, 67, 0.3), 0 1px 3px 1px rgba(60, 64, 67, 0.15);\n",
              "    fill: var(--button-hover-fill-color);\n",
              "  }\n",
              "\n",
              "  .colab-df-quickchart-complete:disabled,\n",
              "  .colab-df-quickchart-complete:disabled:hover {\n",
              "    background-color: var(--disabled-bg-color);\n",
              "    fill: var(--disabled-fill-color);\n",
              "    box-shadow: none;\n",
              "  }\n",
              "\n",
              "  .colab-df-spinner {\n",
              "    border: 2px solid var(--fill-color);\n",
              "    border-color: transparent;\n",
              "    border-bottom-color: var(--fill-color);\n",
              "    animation:\n",
              "      spin 1s steps(1) infinite;\n",
              "  }\n",
              "\n",
              "  @keyframes spin {\n",
              "    0% {\n",
              "      border-color: transparent;\n",
              "      border-bottom-color: var(--fill-color);\n",
              "      border-left-color: var(--fill-color);\n",
              "    }\n",
              "    20% {\n",
              "      border-color: transparent;\n",
              "      border-left-color: var(--fill-color);\n",
              "      border-top-color: var(--fill-color);\n",
              "    }\n",
              "    30% {\n",
              "      border-color: transparent;\n",
              "      border-left-color: var(--fill-color);\n",
              "      border-top-color: var(--fill-color);\n",
              "      border-right-color: var(--fill-color);\n",
              "    }\n",
              "    40% {\n",
              "      border-color: transparent;\n",
              "      border-right-color: var(--fill-color);\n",
              "      border-top-color: var(--fill-color);\n",
              "    }\n",
              "    60% {\n",
              "      border-color: transparent;\n",
              "      border-right-color: var(--fill-color);\n",
              "    }\n",
              "    80% {\n",
              "      border-color: transparent;\n",
              "      border-right-color: var(--fill-color);\n",
              "      border-bottom-color: var(--fill-color);\n",
              "    }\n",
              "    90% {\n",
              "      border-color: transparent;\n",
              "      border-bottom-color: var(--fill-color);\n",
              "    }\n",
              "  }\n",
              "</style>\n",
              "\n",
              "      <script>\n",
              "        async function quickchart(key) {\n",
              "          const quickchartButtonEl =\n",
              "            document.querySelector('#' + key + ' button');\n",
              "          quickchartButtonEl.disabled = true;  // To prevent multiple clicks.\n",
              "          quickchartButtonEl.classList.add('colab-df-spinner');\n",
              "          try {\n",
              "            const charts = await google.colab.kernel.invokeFunction(\n",
              "                'suggestCharts', [key], {});\n",
              "          } catch (error) {\n",
              "            console.error('Error during call to suggestCharts:', error);\n",
              "          }\n",
              "          quickchartButtonEl.classList.remove('colab-df-spinner');\n",
              "          quickchartButtonEl.classList.add('colab-df-quickchart-complete');\n",
              "        }\n",
              "        (() => {\n",
              "          let quickchartButtonEl =\n",
              "            document.querySelector('#df-ba41a011-0a08-45d5-952e-c457ba6d5e0e button');\n",
              "          quickchartButtonEl.style.display =\n",
              "            google.colab.kernel.accessAllowed ? 'block' : 'none';\n",
              "        })();\n",
              "      </script>\n",
              "    </div>\n",
              "\n",
              "    </div>\n",
              "  </div>\n"
            ],
            "application/vnd.google.colaboratory.intrinsic+json": {
              "type": "dataframe",
              "variable_name": "df",
              "summary": "{\n  \"name\": \"df\",\n  \"rows\": 72412,\n  \"fields\": [\n    {\n      \"column\": \"Unnamed: 0\",\n      \"properties\": {\n        \"dtype\": \"number\",\n        \"std\": 20790,\n        \"min\": 0,\n        \"max\": 72133,\n        \"num_unique_values\": 72134,\n        \"samples\": [\n          61370,\n          2189,\n          60609\n        ],\n        \"semantic_type\": \"\",\n        \"description\": \"\"\n      }\n    },\n    {\n      \"column\": \"title\",\n      \"properties\": {\n        \"dtype\": \"string\",\n        \"num_unique_values\": 62347,\n        \"samples\": [\n          \"BBC Under Fire for \\u2018Transgender Diaries\\u2019 Program Aimed at Children as Young as Six\",\n          \" Hillary\\u2019s Running Mate Tim Kaine: The NRA Hates Him, And He Kicked Their Butts (VIDEO)\",\n          \" Trump Outrageously Refers To Elizabeth Warren As \\u2018Pocahontas\\u2019 During Meeting With Senators\"\n        ],\n        \"semantic_type\": \"\",\n        \"description\": \"\"\n      }\n    },\n    {\n      \"column\": \"text\",\n      \"properties\": {\n        \"dtype\": \"string\",\n        \"num_unique_values\": 62719,\n        \"samples\": [\n          \"BERLIN (Reuters) - French President Emmanuel Macron s proposed European reforms will play a big role in talks between German Chancellor Angela Merkel s conservatives to form a government with the center-left Social Democrats (SPD), a top SPD member said. German Foreign Minister Sigmar Gabriel, who led the party until stepping aside earlier this year to make way for former European Parliament president Martin Schulz, said he supported Macron s call for a separate budget for the eurozone.  We should be ready to invest more in our future,  Gabriel told Germany s Funke newspaper group and the French newspaper Ouest-France in an interview published Saturday. Germany is the biggest winner of the EU and can afford to contribute more.   Gabriel said Macron s proposals to reform the European Union would be  very important  in the coalition talks, which are due to begin on Jan. 7 after Merkel failed to reach agreement with two smaller parties. He said he was enthusiastic about Macron s core idea of strengthening the EU and making it a global player. The SPD had initially hoped to go into opposition after suffering its worst election losses in the post-war era, but was persuaded to enter into negotiations with conservatives to avoid new elections. Merkel earlier this month gave her strongest endorsement of Macron s proposals, but Germany has been hamstrung in taking more decisive action on any concrete proposals until it has a new government in place. Merkel said she saw promising areas of common ground with Social Democrats on the future of Europe, and urged speedy action to work on EU reforms before the next European elections in 2019. This week she said she wants an initial coalition deal with the SPD by mid-January. Macron hopes to make progress with Germany on ideas to reform the eurozone by March, once Germany has a new coalition government in place, with the goal of agreeing a  roadmap  with all eurozone leaders by June. Gabriel also called for the EU to adopt programs that would encourage communities in poorer member states to accept more migrants by offering financial assistance.     \",\n          \"HARARE (Reuters) - Zimbabwe s main opposition leader said on Monday President Robert Mugabe s refusal to resign had dampened people s spirits and called for an inclusive political process in the aftermath of a military intervention last week. Morgan Tsvangirai said there should be an all-stakeholders meeting to chart the country s future and that the next elections due next year should be supervised by the international community. \",\n          \"Back when conservative politics were actually political, rather than social, there was a guy by the actual real name of Grover Norquist who summed up the aim of Republican politicians:I don t want to abolish government. I simply want to reduce it to the size where I can drag it into the bathroom and drown it in the bathtub.Yes, back in the days before Nazis invaded America, Republicans and neo-conservatives focused on just three things. They wanted endless war, tax breaks for the rich, and to dismantle government regulations. Norquist s quote is from 2001, but it sounds a little like he s been skulking around the White House or something because the actual conservatives surrounding Donald Trump appear to be pushing back to that agenda.Oh, and speaking of drowning, that s what happens when you remove safety standards   those mean old nasty gub mint regulations. So why would anyone do that? Well, the short answer is money. It s always money, and fewer regulations mean faster, cheaper work. Normally, a politician can t come out and just say  We re getting rid of safety so rich people can have more money.  But Trump can, because his base is made up of equal parts Nazis, people too busy making Biblical excuses for him to notice, and just plain dumbasses.There wasn t really a chance to test this version of the  shoot someone on 5th Avenue  theory, though. Trump s announcement that he was revoking rules protecting the environment in order to speed up cheap infrastructure was cloaked by his simultaneous defense of the Nazis who murdered Heather Heyer in Charlottesville.The rule change that delivers on the promise of this article s headline is one that used to require federal construction to account for rising sea levels when planning and building a project. That s great for constructing a highway that should take three years in less than one. It s not so great for the people living next to it, or the cities it runs through. The change is to an Obama rule that mandated construction two feet above future flood levels, which means that without that requirement, those fast, cheap roads could be underwater following even a mild natural disaster.FEMA has a few things to say about flooding   that it s the leading cause of death among natural disasters in America, that 85% of all emergency declarations are due to floods, that it costs the government billions to recover from major flooding   but why not take it from me? I know from floods: I live in a town that used to flood every single year. Until our city hunkered down and made some riverfront construction rules, that is. The first year that I moved to this tiny hamlet in the Pacific Northwest, I found myself sandbagging a river with my new neighbors by November. My roommates and I ended up at one of their parents  house 10 miles away, because the water came four feet up the stairs to our apartment.Why did I live in the floodplain? Because I was poor. In fact, people in relative or severe poverty make up the largest percentage of those who live in the path of floods. So it s not only states that will have to pay for flooding damage due to this rule reversal. The hardest-hit by this will be those least able to recover from it.Featured image via Michael B. Thomas/Getty Images\"\n        ],\n        \"semantic_type\": \"\",\n        \"description\": \"\"\n      }\n    },\n    {\n      \"column\": \"label\",\n      \"properties\": {\n        \"dtype\": \"number\",\n        \"std\": 0,\n        \"min\": 0,\n        \"max\": 1,\n        \"num_unique_values\": 2,\n        \"samples\": [\n          0,\n          1\n        ],\n        \"semantic_type\": \"\",\n        \"description\": \"\"\n      }\n    }\n  ]\n}"
            }
          },
          "metadata": {},
          "execution_count": 6
        }
      ]
    },
    {
      "cell_type": "markdown",
      "source": [
        "* This shows the dimensions of your dataset — how many rows and columns it has.\n",
        "\n",
        "* It returns a tuple like (number_of_rows, number_of_columns)."
      ],
      "metadata": {
        "id": "5wyz1lh1w1wB"
      }
    },
    {
      "cell_type": "code",
      "source": [
        "df.shape"
      ],
      "metadata": {
        "colab": {
          "base_uri": "https://localhost:8080/"
        },
        "id": "6DmF01zTfE-g",
        "outputId": "7d2c3f65-0df1-40d9-9f27-a0f37b507fad"
      },
      "execution_count": 7,
      "outputs": [
        {
          "output_type": "execute_result",
          "data": {
            "text/plain": [
              "(72412, 4)"
            ]
          },
          "metadata": {},
          "execution_count": 7
        }
      ]
    },
    {
      "cell_type": "markdown",
      "source": [
        "* df.isnull() checks which cells in the dataset are empty or have missing values (NaN).\n",
        "\n",
        "* .sum() adds up the True values (which represent missing data) column by column."
      ],
      "metadata": {
        "id": "DBQY3xtdxMt8"
      }
    },
    {
      "cell_type": "code",
      "source": [
        "df.isnull().sum()"
      ],
      "metadata": {
        "colab": {
          "base_uri": "https://localhost:8080/",
          "height": 210
        },
        "id": "103z3OAwgRWV",
        "outputId": "8efee7c6-af6a-4ecb-c5c7-fb82c6b26d7b"
      },
      "execution_count": 9,
      "outputs": [
        {
          "output_type": "execute_result",
          "data": {
            "text/plain": [
              "Unnamed: 0      0\n",
              "title         560\n",
              "text           39\n",
              "label           0\n",
              "dtype: int64"
            ],
            "text/html": [
              "<div>\n",
              "<style scoped>\n",
              "    .dataframe tbody tr th:only-of-type {\n",
              "        vertical-align: middle;\n",
              "    }\n",
              "\n",
              "    .dataframe tbody tr th {\n",
              "        vertical-align: top;\n",
              "    }\n",
              "\n",
              "    .dataframe thead th {\n",
              "        text-align: right;\n",
              "    }\n",
              "</style>\n",
              "<table border=\"1\" class=\"dataframe\">\n",
              "  <thead>\n",
              "    <tr style=\"text-align: right;\">\n",
              "      <th></th>\n",
              "      <th>0</th>\n",
              "    </tr>\n",
              "  </thead>\n",
              "  <tbody>\n",
              "    <tr>\n",
              "      <th>Unnamed: 0</th>\n",
              "      <td>0</td>\n",
              "    </tr>\n",
              "    <tr>\n",
              "      <th>title</th>\n",
              "      <td>560</td>\n",
              "    </tr>\n",
              "    <tr>\n",
              "      <th>text</th>\n",
              "      <td>39</td>\n",
              "    </tr>\n",
              "    <tr>\n",
              "      <th>label</th>\n",
              "      <td>0</td>\n",
              "    </tr>\n",
              "  </tbody>\n",
              "</table>\n",
              "</div><br><label><b>dtype:</b> int64</label>"
            ]
          },
          "metadata": {},
          "execution_count": 9
        }
      ]
    },
    {
      "cell_type": "markdown",
      "source": [
        "* dropna() removes any rows that contain missing (null) values from the dataset.\n",
        "\n",
        "* df = means you’re saving the cleaned data back into the same variable, so now df has only complete rows."
      ],
      "metadata": {
        "id": "z_F7iOJFxXAO"
      }
    },
    {
      "cell_type": "code",
      "source": [
        "df = df.dropna()"
      ],
      "metadata": {
        "id": "Lufu328sgcDO"
      },
      "execution_count": 10,
      "outputs": []
    },
    {
      "cell_type": "markdown",
      "source": [
        "* We're creating a new variable X that contains all columns except the label column.\n",
        "\n",
        "* axis=1 means you're dropping a column (not a row).\n",
        "\n",
        "* The label column likely contains the target values."
      ],
      "metadata": {
        "id": "N6iUyv51xmRR"
      }
    },
    {
      "cell_type": "code",
      "source": [
        "X = df.drop('label',axis=1)"
      ],
      "metadata": {
        "id": "gjqgvcLigmgK"
      },
      "execution_count": 12,
      "outputs": []
    },
    {
      "cell_type": "markdown",
      "source": [
        "# 4. Feature and Target Separation"
      ],
      "metadata": {
        "id": "l_hNaK_I5ZOm"
      }
    },
    {
      "cell_type": "markdown",
      "source": [
        "* We're confirming that both the inputs (X) and outputs (y) are the same length and ready for training."
      ],
      "metadata": {
        "id": "IUvdSmOTyOj_"
      }
    },
    {
      "cell_type": "code",
      "source": [
        "X.shape"
      ],
      "metadata": {
        "colab": {
          "base_uri": "https://localhost:8080/"
        },
        "id": "042SzSXNhEY-",
        "outputId": "60fe5366-506b-437d-9b80-6076b8409510"
      },
      "execution_count": 14,
      "outputs": [
        {
          "output_type": "execute_result",
          "data": {
            "text/plain": [
              "(71813, 3)"
            ]
          },
          "metadata": {},
          "execution_count": 14
        }
      ]
    },
    {
      "cell_type": "code",
      "source": [
        "y = df['label']"
      ],
      "metadata": {
        "id": "hS3b-K2VhG66"
      },
      "execution_count": 15,
      "outputs": []
    },
    {
      "cell_type": "code",
      "source": [
        "y.shape"
      ],
      "metadata": {
        "colab": {
          "base_uri": "https://localhost:8080/"
        },
        "id": "tRo81aRKhVPP",
        "outputId": "c8ec91da-4010-4a5a-d889-02498d037a47"
      },
      "execution_count": 17,
      "outputs": [
        {
          "output_type": "execute_result",
          "data": {
            "text/plain": [
              "(71813,)"
            ]
          },
          "metadata": {},
          "execution_count": 17
        }
      ]
    },
    {
      "cell_type": "markdown",
      "source": [
        "* We're setting the vocabulary size to 5000.\n",
        "* This means we'll only consider the top 5000 most common words when converting text to numbers using one-hot encoding.\n",
        "* Making a copy of the input features (X) into a new variable messages\n",
        "* Removing extra columns\n",
        "* We are giving our text data a clean slate: removing junk columns and resetting row numbers."
      ],
      "metadata": {
        "id": "HfXDo9bizdKW"
      }
    },
    {
      "cell_type": "code",
      "source": [
        "voc_size = 5000"
      ],
      "metadata": {
        "id": "qeTEllUyiAYb"
      },
      "execution_count": 21,
      "outputs": []
    },
    {
      "cell_type": "code",
      "source": [
        "messages = X.copy()"
      ],
      "metadata": {
        "id": "bf7jLI9niDrE"
      },
      "execution_count": 22,
      "outputs": []
    },
    {
      "cell_type": "code",
      "source": [
        "messages = messages.drop(['index','Unnamed: 0'],axis=1)"
      ],
      "metadata": {
        "id": "VLwej8SklG6q"
      },
      "execution_count": 35,
      "outputs": []
    },
    {
      "cell_type": "code",
      "source": [
        "messages.reset_index(inplace=True)"
      ],
      "metadata": {
        "id": "b8CxEuL3kEHz"
      },
      "execution_count": 37,
      "outputs": []
    },
    {
      "cell_type": "markdown",
      "source": [
        "# 5. Text Preprocessing"
      ],
      "metadata": {
        "id": "E2Kuf2ww5hLd"
      }
    },
    {
      "cell_type": "markdown",
      "source": [
        "* nltk.download('stopwords'): Downloads the list of English stopwords.\n",
        "* **ps** stemmer object to use later when cleaning each word.\n",
        "\n",
        "* **This loop cleans each news title:**\n",
        " * Removes punctuation/numbers.\n",
        " * Converts to lowercase.\n",
        " * Splits into words.\n",
        " * Removes stopwords.\n",
        " * Applies stemming.\n",
        " * Joins the cleaned words into one string.\n",
        " * Adds the cleaned title to the corpus list.\n",
        "\n",
        "**Converts each cleaned sentence into a list of integers using one-hot encoding.\n",
        "Each word is turned into a number between 1 and voc_size (5000).**"
      ],
      "metadata": {
        "id": "GpJwexHZ0JAO"
      }
    },
    {
      "cell_type": "code",
      "source": [
        "nltk.download('stopwords')"
      ],
      "metadata": {
        "colab": {
          "base_uri": "https://localhost:8080/"
        },
        "id": "YuXNmHL0jXku",
        "outputId": "355ac859-10ab-4661-b9de-a23ae73a76ae"
      },
      "execution_count": 29,
      "outputs": [
        {
          "output_type": "stream",
          "name": "stderr",
          "text": [
            "[nltk_data] Downloading package stopwords to /root/nltk_data...\n",
            "[nltk_data]   Unzipping corpora/stopwords.zip.\n"
          ]
        },
        {
          "output_type": "execute_result",
          "data": {
            "text/plain": [
              "True"
            ]
          },
          "metadata": {},
          "execution_count": 29
        }
      ]
    },
    {
      "cell_type": "code",
      "source": [
        "from nltk.stem.porter import PorterStemmer\n",
        "\n",
        "ps = PorterStemmer()\n",
        "\n",
        "corpus = []\n",
        "\n",
        "for i in range(0,len(messages)):\n",
        "  review = re.sub('[^a-zA-Z]',' ',messages['title'][i])\n",
        "  review = review.lower()\n",
        "  review = review.split()\n",
        "\n",
        "  review = [ ps.stem(word) for word in review if not word in stopwords.words('english')]\n",
        "  review = ' '.join(review)\n",
        "  corpus.append(review)\n"
      ],
      "metadata": {
        "id": "aiaaKt4QjicG"
      },
      "execution_count": 43,
      "outputs": []
    },
    {
      "cell_type": "markdown",
      "source": [
        "# 6. One-Hot Encoding and Padding"
      ],
      "metadata": {
        "id": "Kv4Joy-O5kYd"
      }
    },
    {
      "cell_type": "code",
      "source": [
        "onehot_repr = [one_hot(words,voc_size) for words in corpus]\n"
      ],
      "metadata": {
        "id": "CEwrGt13nfxl"
      },
      "execution_count": 64,
      "outputs": []
    },
    {
      "cell_type": "markdown",
      "source": [
        "Embedding Representation"
      ],
      "metadata": {
        "id": "9o53DSCPoZoi"
      }
    },
    {
      "cell_type": "markdown",
      "source": [
        "* Every news title will be represented by 20 words.\n",
        "* Shorter titles will be padded; longer ones will be trimmed.\n",
        "\n",
        "* pad_sequences() makes all sequences the same length, which is required for deep learning models.\n",
        "* padding='pre' means if a sequence is shorter than 20, it will add zeros at the beginning.\n",
        "* maxlen=sent_length makes sure no sequence is longer than 20 — extra words will be cut from the beginning.\n",
        "\n",
        "* Embedding layer converts each word number (from one-hot encoding) into a dense vector of 40 values.\n",
        "\n",
        "* input_dim=voc_size means it expects words represented by numbers from a vocabulary of size 5000.\n",
        "\n",
        "* output_dim=embedding_vector_features defines the size of each word vector.\n",
        "\n",
        "* Adds an **LSTM laye**r with 100 units.\n",
        "\n",
        "* LSTM (Long Short-Term Memory) helps the model remember word order and context, which is important in text.\n",
        "\n",
        "* **Dense(1)** adds one neuron to predict either 0 or 1 (fake or real).\n",
        "\n",
        "* **sigmoid activation** squashes output between 0 and 1, so it can be interpreted as probability.\n",
        "\n",
        "* loss='binary_crossentropy': Used for binary classification tasks (fake vs real).\n",
        "\n",
        "* optimizer='adam': Efficient algorithm to update weights and train the model.\n",
        "\n",
        "* metrics=['accuracy']: Track accuracy during training and testing."
      ],
      "metadata": {
        "id": "xLF527QO1J_V"
      }
    },
    {
      "cell_type": "code",
      "source": [
        "sent_length = 20\n",
        "embedded_docs = pad_sequences(onehot_repr,padding='pre',maxlen=sent_length)\n",
        "print(embedded_docs)"
      ],
      "metadata": {
        "colab": {
          "base_uri": "https://localhost:8080/"
        },
        "id": "bNm0zxo6nwTT",
        "outputId": "20a58e27-4fa3-4f38-db62-e3ac576ad21d"
      },
      "execution_count": 46,
      "outputs": [
        {
          "output_type": "stream",
          "name": "stdout",
          "text": [
            "[[   0    0    0 ... 3469 4779 3727]\n",
            " [   0    0    0 ...  152 4520 3727]\n",
            " [   0    0    0 ...  601 1284 2328]\n",
            " ...\n",
            " [   0    0    0 ... 4056 1496 3119]\n",
            " [   0    0    0 ...  326 1905 2806]\n",
            " [   0    0    0 ...  983 3592 3009]]\n"
          ]
        }
      ]
    },
    {
      "cell_type": "markdown",
      "source": [
        "* Each word will be turned into a 40-length vector that the model can learn from.\n",
        "* Sequential() creates a model where you can stack layers one after another."
      ],
      "metadata": {
        "id": "6qJUm2-g1jcL"
      }
    },
    {
      "cell_type": "markdown",
      "source": [
        "# 7. Building the LSTM Model"
      ],
      "metadata": {
        "id": "hT6h8rFY5pNn"
      }
    },
    {
      "cell_type": "code",
      "source": [
        "embedding_vector_features = 40\n",
        "model = Sequential()\n",
        "model.add(Embedding(input_dim= voc_size,output_dim=embedding_vector_features))\n",
        "model.add(LSTM(100))\n",
        "model.add(Dense(1,activation='sigmoid'))\n",
        "model.build(input_shape=(None,sent_length))\n",
        "model.compile(loss='binary_crossentropy',optimizer='adam',metrics=['accuracy'])\n",
        "model.summary()"
      ],
      "metadata": {
        "colab": {
          "base_uri": "https://localhost:8080/",
          "height": 228
        },
        "id": "k3i1z81Momer",
        "outputId": "88086573-73da-46f8-e3c2-91c21925eab8"
      },
      "execution_count": 49,
      "outputs": [
        {
          "output_type": "display_data",
          "data": {
            "text/plain": [
              "\u001b[1mModel: \"sequential_2\"\u001b[0m\n"
            ],
            "text/html": [
              "<pre style=\"white-space:pre;overflow-x:auto;line-height:normal;font-family:Menlo,'DejaVu Sans Mono',consolas,'Courier New',monospace\"><span style=\"font-weight: bold\">Model: \"sequential_2\"</span>\n",
              "</pre>\n"
            ]
          },
          "metadata": {}
        },
        {
          "output_type": "display_data",
          "data": {
            "text/plain": [
              "┏━━━━━━━━━━━━━━━━━━━━━━━━━━━━━━━━━┳━━━━━━━━━━━━━━━━━━━━━━━━┳━━━━━━━━━━━━━━━┓\n",
              "┃\u001b[1m \u001b[0m\u001b[1mLayer (type)                   \u001b[0m\u001b[1m \u001b[0m┃\u001b[1m \u001b[0m\u001b[1mOutput Shape          \u001b[0m\u001b[1m \u001b[0m┃\u001b[1m \u001b[0m\u001b[1m      Param #\u001b[0m\u001b[1m \u001b[0m┃\n",
              "┡━━━━━━━━━━━━━━━━━━━━━━━━━━━━━━━━━╇━━━━━━━━━━━━━━━━━━━━━━━━╇━━━━━━━━━━━━━━━┩\n",
              "│ embedding_2 (\u001b[38;5;33mEmbedding\u001b[0m)         │ (\u001b[38;5;45mNone\u001b[0m, \u001b[38;5;34m20\u001b[0m, \u001b[38;5;34m40\u001b[0m)         │       \u001b[38;5;34m200,000\u001b[0m │\n",
              "├─────────────────────────────────┼────────────────────────┼───────────────┤\n",
              "│ lstm_2 (\u001b[38;5;33mLSTM\u001b[0m)                   │ (\u001b[38;5;45mNone\u001b[0m, \u001b[38;5;34m100\u001b[0m)            │        \u001b[38;5;34m56,400\u001b[0m │\n",
              "├─────────────────────────────────┼────────────────────────┼───────────────┤\n",
              "│ dense_2 (\u001b[38;5;33mDense\u001b[0m)                 │ (\u001b[38;5;45mNone\u001b[0m, \u001b[38;5;34m1\u001b[0m)              │           \u001b[38;5;34m101\u001b[0m │\n",
              "└─────────────────────────────────┴────────────────────────┴───────────────┘\n"
            ],
            "text/html": [
              "<pre style=\"white-space:pre;overflow-x:auto;line-height:normal;font-family:Menlo,'DejaVu Sans Mono',consolas,'Courier New',monospace\">┏━━━━━━━━━━━━━━━━━━━━━━━━━━━━━━━━━┳━━━━━━━━━━━━━━━━━━━━━━━━┳━━━━━━━━━━━━━━━┓\n",
              "┃<span style=\"font-weight: bold\"> Layer (type)                    </span>┃<span style=\"font-weight: bold\"> Output Shape           </span>┃<span style=\"font-weight: bold\">       Param # </span>┃\n",
              "┡━━━━━━━━━━━━━━━━━━━━━━━━━━━━━━━━━╇━━━━━━━━━━━━━━━━━━━━━━━━╇━━━━━━━━━━━━━━━┩\n",
              "│ embedding_2 (<span style=\"color: #0087ff; text-decoration-color: #0087ff\">Embedding</span>)         │ (<span style=\"color: #00d7ff; text-decoration-color: #00d7ff\">None</span>, <span style=\"color: #00af00; text-decoration-color: #00af00\">20</span>, <span style=\"color: #00af00; text-decoration-color: #00af00\">40</span>)         │       <span style=\"color: #00af00; text-decoration-color: #00af00\">200,000</span> │\n",
              "├─────────────────────────────────┼────────────────────────┼───────────────┤\n",
              "│ lstm_2 (<span style=\"color: #0087ff; text-decoration-color: #0087ff\">LSTM</span>)                   │ (<span style=\"color: #00d7ff; text-decoration-color: #00d7ff\">None</span>, <span style=\"color: #00af00; text-decoration-color: #00af00\">100</span>)            │        <span style=\"color: #00af00; text-decoration-color: #00af00\">56,400</span> │\n",
              "├─────────────────────────────────┼────────────────────────┼───────────────┤\n",
              "│ dense_2 (<span style=\"color: #0087ff; text-decoration-color: #0087ff\">Dense</span>)                 │ (<span style=\"color: #00d7ff; text-decoration-color: #00d7ff\">None</span>, <span style=\"color: #00af00; text-decoration-color: #00af00\">1</span>)              │           <span style=\"color: #00af00; text-decoration-color: #00af00\">101</span> │\n",
              "└─────────────────────────────────┴────────────────────────┴───────────────┘\n",
              "</pre>\n"
            ]
          },
          "metadata": {}
        },
        {
          "output_type": "display_data",
          "data": {
            "text/plain": [
              "\u001b[1m Total params: \u001b[0m\u001b[38;5;34m256,501\u001b[0m (1001.96 KB)\n"
            ],
            "text/html": [
              "<pre style=\"white-space:pre;overflow-x:auto;line-height:normal;font-family:Menlo,'DejaVu Sans Mono',consolas,'Courier New',monospace\"><span style=\"font-weight: bold\"> Total params: </span><span style=\"color: #00af00; text-decoration-color: #00af00\">256,501</span> (1001.96 KB)\n",
              "</pre>\n"
            ]
          },
          "metadata": {}
        },
        {
          "output_type": "display_data",
          "data": {
            "text/plain": [
              "\u001b[1m Trainable params: \u001b[0m\u001b[38;5;34m256,501\u001b[0m (1001.96 KB)\n"
            ],
            "text/html": [
              "<pre style=\"white-space:pre;overflow-x:auto;line-height:normal;font-family:Menlo,'DejaVu Sans Mono',consolas,'Courier New',monospace\"><span style=\"font-weight: bold\"> Trainable params: </span><span style=\"color: #00af00; text-decoration-color: #00af00\">256,501</span> (1001.96 KB)\n",
              "</pre>\n"
            ]
          },
          "metadata": {}
        },
        {
          "output_type": "display_data",
          "data": {
            "text/plain": [
              "\u001b[1m Non-trainable params: \u001b[0m\u001b[38;5;34m0\u001b[0m (0.00 B)\n"
            ],
            "text/html": [
              "<pre style=\"white-space:pre;overflow-x:auto;line-height:normal;font-family:Menlo,'DejaVu Sans Mono',consolas,'Courier New',monospace\"><span style=\"font-weight: bold\"> Non-trainable params: </span><span style=\"color: #00af00; text-decoration-color: #00af00\">0</span> (0.00 B)\n",
              "</pre>\n"
            ]
          },
          "metadata": {}
        }
      ]
    },
    {
      "cell_type": "markdown",
      "source": [
        "# 8. Preparing Data for Training"
      ],
      "metadata": {
        "id": "_MDJxugl5uDU"
      }
    },
    {
      "cell_type": "markdown",
      "source": [
        "In this part of the code, the preprocessed text data and labels are converted into NumPy arrays and split into training and testing sets (70/30). The LSTM model is then trained on the training data for 10 epochs, using a batch size of 64, while also validating on the test set. After training, the model makes predictions, which are converted into binary values using a 0.5 threshold. Finally, the model’s performance is evaluated using a confusion matrix, accuracy score, and a classification report showing precision, recall, and F1-score"
      ],
      "metadata": {
        "id": "Aae08CWX3VOO"
      }
    },
    {
      "cell_type": "code",
      "source": [
        "len(embedded_docs),y.shape"
      ],
      "metadata": {
        "colab": {
          "base_uri": "https://localhost:8080/"
        },
        "id": "yH3EPOvcstki",
        "outputId": "600f3394-5fde-4aca-cde9-d1702e2b5600"
      },
      "execution_count": 50,
      "outputs": [
        {
          "output_type": "execute_result",
          "data": {
            "text/plain": [
              "(71813, (71813,))"
            ]
          },
          "metadata": {},
          "execution_count": 50
        }
      ]
    },
    {
      "cell_type": "code",
      "source": [
        "X_final = np.array(embedded_docs)\n",
        "y_final = np.array(y)"
      ],
      "metadata": {
        "id": "cyC3qPdfs02f"
      },
      "execution_count": 52,
      "outputs": []
    },
    {
      "cell_type": "code",
      "source": [
        "X_final.shape,y_final.shape"
      ],
      "metadata": {
        "colab": {
          "base_uri": "https://localhost:8080/"
        },
        "id": "WE03CDJMs52f",
        "outputId": "8b87bdfd-4919-4e5a-a93f-553e968f3bc8"
      },
      "execution_count": 53,
      "outputs": [
        {
          "output_type": "execute_result",
          "data": {
            "text/plain": [
              "((71813, 20), (71813,))"
            ]
          },
          "metadata": {},
          "execution_count": 53
        }
      ]
    },
    {
      "cell_type": "code",
      "source": [
        "X_train,X_test,y_train,y_test = train_test_split(X_final,y_final,test_size = 0.30,random_state=42)"
      ],
      "metadata": {
        "id": "uBWDbIMls-u7"
      },
      "execution_count": 54,
      "outputs": []
    },
    {
      "cell_type": "markdown",
      "source": [
        "# 9. Model Training"
      ],
      "metadata": {
        "id": "1OfEvJ4A5xCW"
      }
    },
    {
      "cell_type": "code",
      "source": [
        "model.fit(X_train,y_train,validation_data=(X_test,y_test),epochs=10,batch_size=64)"
      ],
      "metadata": {
        "colab": {
          "base_uri": "https://localhost:8080/"
        },
        "id": "Kc6j5cwatRf-",
        "outputId": "4f0976d1-1b0c-4e5c-e25b-cefbd8152d1c"
      },
      "execution_count": 55,
      "outputs": [
        {
          "output_type": "stream",
          "name": "stdout",
          "text": [
            "Epoch 1/10\n",
            "\u001b[1m786/786\u001b[0m \u001b[32m━━━━━━━━━━━━━━━━━━━━\u001b[0m\u001b[37m\u001b[0m \u001b[1m10s\u001b[0m 7ms/step - accuracy: 0.8127 - loss: 0.3922 - val_accuracy: 0.8826 - val_loss: 0.2727\n",
            "Epoch 2/10\n",
            "\u001b[1m786/786\u001b[0m \u001b[32m━━━━━━━━━━━━━━━━━━━━\u001b[0m\u001b[37m\u001b[0m \u001b[1m9s\u001b[0m 9ms/step - accuracy: 0.9123 - loss: 0.2154 - val_accuracy: 0.8931 - val_loss: 0.2500\n",
            "Epoch 3/10\n",
            "\u001b[1m786/786\u001b[0m \u001b[32m━━━━━━━━━━━━━━━━━━━━\u001b[0m\u001b[37m\u001b[0m \u001b[1m5s\u001b[0m 6ms/step - accuracy: 0.9305 - loss: 0.1768 - val_accuracy: 0.8938 - val_loss: 0.2562\n",
            "Epoch 4/10\n",
            "\u001b[1m786/786\u001b[0m \u001b[32m━━━━━━━━━━━━━━━━━━━━\u001b[0m\u001b[37m\u001b[0m \u001b[1m7s\u001b[0m 8ms/step - accuracy: 0.9383 - loss: 0.1570 - val_accuracy: 0.8955 - val_loss: 0.2595\n",
            "Epoch 5/10\n",
            "\u001b[1m786/786\u001b[0m \u001b[32m━━━━━━━━━━━━━━━━━━━━\u001b[0m\u001b[37m\u001b[0m \u001b[1m5s\u001b[0m 6ms/step - accuracy: 0.9480 - loss: 0.1315 - val_accuracy: 0.8957 - val_loss: 0.2796\n",
            "Epoch 6/10\n",
            "\u001b[1m786/786\u001b[0m \u001b[32m━━━━━━━━━━━━━━━━━━━━\u001b[0m\u001b[37m\u001b[0m \u001b[1m6s\u001b[0m 7ms/step - accuracy: 0.9549 - loss: 0.1128 - val_accuracy: 0.8948 - val_loss: 0.3384\n",
            "Epoch 7/10\n",
            "\u001b[1m786/786\u001b[0m \u001b[32m━━━━━━━━━━━━━━━━━━━━\u001b[0m\u001b[37m\u001b[0m \u001b[1m10s\u001b[0m 7ms/step - accuracy: 0.9611 - loss: 0.0983 - val_accuracy: 0.8918 - val_loss: 0.3943\n",
            "Epoch 8/10\n",
            "\u001b[1m786/786\u001b[0m \u001b[32m━━━━━━━━━━━━━━━━━━━━\u001b[0m\u001b[37m\u001b[0m \u001b[1m10s\u001b[0m 6ms/step - accuracy: 0.9692 - loss: 0.0788 - val_accuracy: 0.8941 - val_loss: 0.3851\n",
            "Epoch 9/10\n",
            "\u001b[1m786/786\u001b[0m \u001b[32m━━━━━━━━━━━━━━━━━━━━\u001b[0m\u001b[37m\u001b[0m \u001b[1m7s\u001b[0m 9ms/step - accuracy: 0.9755 - loss: 0.0649 - val_accuracy: 0.8943 - val_loss: 0.4642\n",
            "Epoch 10/10\n",
            "\u001b[1m786/786\u001b[0m \u001b[32m━━━━━━━━━━━━━━━━━━━━\u001b[0m\u001b[37m\u001b[0m \u001b[1m12s\u001b[0m 11ms/step - accuracy: 0.9814 - loss: 0.0487 - val_accuracy: 0.8903 - val_loss: 0.4783\n"
          ]
        },
        {
          "output_type": "execute_result",
          "data": {
            "text/plain": [
              "<keras.src.callbacks.history.History at 0x7e5a502baa10>"
            ]
          },
          "metadata": {},
          "execution_count": 55
        }
      ]
    },
    {
      "cell_type": "markdown",
      "source": [
        "# 10. Prediction and Evaluation"
      ],
      "metadata": {
        "id": "d6m9Ag3j5zic"
      }
    },
    {
      "cell_type": "code",
      "source": [
        "y_pred = model.predict(X_test)"
      ],
      "metadata": {
        "colab": {
          "base_uri": "https://localhost:8080/"
        },
        "id": "wqNok6UZtaUp",
        "outputId": "502b6bfc-c613-4263-e78c-fb84353bb95e"
      },
      "execution_count": 56,
      "outputs": [
        {
          "output_type": "stream",
          "name": "stdout",
          "text": [
            "\u001b[1m674/674\u001b[0m \u001b[32m━━━━━━━━━━━━━━━━━━━━\u001b[0m\u001b[37m\u001b[0m \u001b[1m2s\u001b[0m 3ms/step\n"
          ]
        }
      ]
    },
    {
      "cell_type": "code",
      "source": [
        "y_pred = np.where(y_pred > 0.5,1,0)"
      ],
      "metadata": {
        "id": "-cQI_qGduPHx"
      },
      "execution_count": 57,
      "outputs": []
    },
    {
      "cell_type": "code",
      "source": [
        "from sklearn.metrics import confusion_matrix"
      ],
      "metadata": {
        "id": "yZMei1XKuU6F"
      },
      "execution_count": 60,
      "outputs": []
    },
    {
      "cell_type": "code",
      "source": [
        "confusion_matrix(y_test,y_pred)"
      ],
      "metadata": {
        "colab": {
          "base_uri": "https://localhost:8080/"
        },
        "id": "aTRyUr5Pul9i",
        "outputId": "57d8e4d9-38dd-4664-e4dc-a2dd45939204"
      },
      "execution_count": 61,
      "outputs": [
        {
          "output_type": "execute_result",
          "data": {
            "text/plain": [
              "array([[9298, 1320],\n",
              "       [1043, 9883]])"
            ]
          },
          "metadata": {},
          "execution_count": 61
        }
      ]
    },
    {
      "cell_type": "code",
      "source": [
        "from sklearn.metrics import accuracy_score\n",
        "accuracy_score(y_test,y_pred)"
      ],
      "metadata": {
        "colab": {
          "base_uri": "https://localhost:8080/"
        },
        "id": "aGKM6WpRuueX",
        "outputId": "2c726bbc-8e20-4e67-f8bc-085aa8dd4205"
      },
      "execution_count": 62,
      "outputs": [
        {
          "output_type": "execute_result",
          "data": {
            "text/plain": [
              "0.8903174897883401"
            ]
          },
          "metadata": {},
          "execution_count": 62
        }
      ]
    },
    {
      "cell_type": "code",
      "source": [
        "from sklearn.metrics import classification_report\n",
        "print(classification_report(y_test,y_pred))"
      ],
      "metadata": {
        "colab": {
          "base_uri": "https://localhost:8080/"
        },
        "id": "OUQ8xB3yu1Fc",
        "outputId": "ccef2671-5925-4155-cf89-6e6e9e41ab9c"
      },
      "execution_count": 63,
      "outputs": [
        {
          "output_type": "stream",
          "name": "stdout",
          "text": [
            "              precision    recall  f1-score   support\n",
            "\n",
            "           0       0.90      0.88      0.89     10618\n",
            "           1       0.88      0.90      0.89     10926\n",
            "\n",
            "    accuracy                           0.89     21544\n",
            "   macro avg       0.89      0.89      0.89     21544\n",
            "weighted avg       0.89      0.89      0.89     21544\n",
            "\n"
          ]
        }
      ]
    },
    {
      "cell_type": "code",
      "source": [],
      "metadata": {
        "id": "7QgnWgJFu6u8"
      },
      "execution_count": null,
      "outputs": []
    }
  ]
}